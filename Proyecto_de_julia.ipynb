{
 "cells": [
  {
   "cell_type": "markdown",
   "id": "74f955a1-2320-420e-a24a-a4fb5cc98a54",
   "metadata": {},
   "source": [
    "#### Integrantes:\n"
   ]
  },
  {
   "cell_type": "markdown",
   "id": "9295fadb-1360-440b-bb37-e496a0441185",
   "metadata": {},
   "source": [
    "Andres Sosa 30.096.794                                                                                                                                                                                "
   ]
  },
  {
   "cell_type": "markdown",
   "id": "5eee26f9-1422-4995-a8af-9934ae55ed71",
   "metadata": {},
   "source": [
    "Irisbel Ruiz 30.864.236"
   ]
  },
  {
   "cell_type": "markdown",
   "id": "79278a6d-2607-49c4-abb9-4bd2f47d6d47",
   "metadata": {
    "tags": []
   },
   "source": [
    "# Sintaxis de Julia"
   ]
  },
  {
   "cell_type": "markdown",
   "id": "020c2eab",
   "metadata": {},
   "source": [
    "## ¿Que es julia??"
   ]
  },
  {
   "cell_type": "markdown",
   "id": "50d608ef",
   "metadata": {},
   "source": [
    "### Definicion"
   ]
  },
  {
   "cell_type": "markdown",
   "id": "8cf23632",
   "metadata": {},
   "source": [
    "Julia es un lenguaje de programacion de codigo abierto y considerado un lenguaje de alto nivel que tiene una sintaxis facil de aprender como python,R,Matlab,etc.Fue desarrollado para un proposito general  y algo diverso, pero esta especialmente diseñado para calculo cientifico, analisis de datos, machine learning, álgebra lineal, computación paralela, etc. Al ser un lenguaje especialmente desarrollado para calculos se le puede escribir símbolos matemáticos directamente en las expresiones. Fue desarrollado en año 2012 por Alan Edelman, Stefan Karpinski, Jeff Bezanson y Viral Shah"
   ]
  },
  {
   "cell_type": "markdown",
   "id": "35f950d6",
   "metadata": {},
   "source": [
    "#### Ventajas"
   ]
  },
  {
   "cell_type": "markdown",
   "id": "6c6d7e74",
   "metadata": {},
   "source": [
    "1-Tiene las ventajas de un lenguaje dinámico con el rendimiento de un lenguaje compilado"
   ]
  },
  {
   "cell_type": "markdown",
   "id": "998bef9b",
   "metadata": {},
   "source": [
    "2-Tiene una sintaxis facil de aprender"
   ]
  },
  {
   "cell_type": "markdown",
   "id": "3b1a320d",
   "metadata": {},
   "source": [
    "3-Evita el problema del \"doble lenguaje\""
   ]
  },
  {
   "cell_type": "markdown",
   "id": "a33687f6",
   "metadata": {},
   "source": [
    "4-Cuenta con una biblioteca estandar muy extensa"
   ]
  }
 ],
 "metadata": {
  "kernelspec": {
   "display_name": "Julia 1.10.3",
   "language": "julia",
   "name": "julia-1.10"
  },
  "language_info": {
   "file_extension": ".jl",
   "mimetype": "application/julia",
   "name": "julia",
   "version": "1.10.3"
  }
 },
 "nbformat": 4,
 "nbformat_minor": 5
}
