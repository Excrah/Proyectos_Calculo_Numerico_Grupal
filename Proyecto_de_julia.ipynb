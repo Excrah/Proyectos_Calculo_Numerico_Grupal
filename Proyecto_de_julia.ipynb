{
 "cells": [
  {
   "cell_type": "markdown",
   "id": "74f955a1-2320-420e-a24a-a4fb5cc98a54",
   "metadata": {},
   "source": [
    "#### Integrantes:\n"
   ]
  },
  {
   "cell_type": "markdown",
   "id": "9295fadb-1360-440b-bb37-e496a0441185",
   "metadata": {},
   "source": [
    "Andres Sosa 30.096.794                                                                                                                                                                                "
   ]
  },
  {
   "cell_type": "markdown",
   "id": "5eee26f9-1422-4995-a8af-9934ae55ed71",
   "metadata": {},
   "source": [
    "Irisbel Ruiz 30.864.236"
   ]
  },
  {
   "cell_type": "markdown",
   "id": "79278a6d-2607-49c4-abb9-4bd2f47d6d47",
   "metadata": {
    "tags": []
   },
   "source": [
    "# Sintaxis de Julia"
   ]
  },
  {
   "cell_type": "markdown",
   "id": "020c2eab",
   "metadata": {},
   "source": [
    "## ¿Qué es julia??"
   ]
  },
  {
   "cell_type": "markdown",
   "id": "05ddcca4",
   "metadata": {},
   "source": [
    "<img src = 'julia.png'>"
   ]
  },
  {
   "cell_type": "markdown",
   "id": "50d608ef",
   "metadata": {},
   "source": [
    "### Definición"
   ]
  },
  {
   "cell_type": "markdown",
   "id": "8cf23632",
   "metadata": {},
   "source": [
    "Julia es un lenguaje de programación de código abierto y considerado un lenguaje de alto nivel que tiene una sintaxis fácil de aprender como python,R,Matlab,etc.Fue desarrollado para un propósito general  y algo diverso, pero esta especialmente diseñado para cálculo científico, análisis de datos, machine learning, álgebra lineal, computación paralela, etc. Al ser un lenguaje especialmente desarrollado para calculos se le puede escribir símbolos matemáticos directamente en las expresiones. Fue desarrollado en año 2012 por Alan Edelman, Stefan Karpinski, Jeff Bezanson y Viral Shah"
   ]
  },
  {
   "cell_type": "markdown",
   "id": "35f950d6",
   "metadata": {},
   "source": [
    "#### Ventajas"
   ]
  },
  {
   "cell_type": "markdown",
   "id": "6c6d7e74",
   "metadata": {},
   "source": [
    "1-Tiene las ventajas de un lenguaje dinámico con el rendimiento de un lenguaje compilado"
   ]
  },
  {
   "cell_type": "markdown",
   "id": "998bef9b",
   "metadata": {},
   "source": [
    "2-Tiene una sintaxis facil de aprender"
   ]
  },
  {
   "cell_type": "markdown",
   "id": "3b1a320d",
   "metadata": {},
   "source": [
    "3-Evita el problema del \"doble lenguaje\""
   ]
  },
  {
   "cell_type": "markdown",
   "id": "a33687f6",
   "metadata": {},
   "source": [
    "4-Cuenta con una biblioteca estandar muy extensa"
   ]
  },
  {
   "cell_type": "markdown",
   "id": "15e94186",
   "metadata": {},
   "source": [
    "## ¿Como empezar en Julia?"
   ]
  },
  {
   "cell_type": "markdown",
   "id": "4230b328",
   "metadata": {},
   "source": [
    "#### Hola mundo/Imprimir"
   ]
  },
  {
   "cell_type": "markdown",
   "id": "a8a04935",
   "metadata": {},
   "source": [
    "Imprimir o mejor dicho print si vienen de python o printIn si vienen de java, es un comando que sirve para imprimir lo que tu quieres mostrar a la pantalla o a los usuarios que esten utilizando tu programa, normalmente en programacion todos iniciamos por este paso con un \"hello world\" o en español es \"hola mundo\", aqui en julia usaremos \"printIn()\" que es la funcion que se usa en el lenguaje julia para imprimir con salto de linea, pero si queremos que imprima sin salto de linea sera solo \"print()\", Bueno iniciemos con el ejemplo"
   ]
  },
  {
   "cell_type": "code",
   "execution_count": 1,
   "id": "6cc47a5e",
   "metadata": {},
   "outputs": [
    {
     "name": "stdout",
     "output_type": "stream",
     "text": [
      "Hola mundo\n",
      "Hola mundo"
     ]
    }
   ],
   "source": [
    "println(\"Hola mundo\") #Salto de linea\n",
    "print(\"Hola mundo\") # Sin salto de linea"
   ]
  },
  {
   "cell_type": "markdown",
   "id": "ca712ecd",
   "metadata": {},
   "source": [
    "#### Variables"
   ]
  },
  {
   "cell_type": "markdown",
   "id": "b67303c2",
   "metadata": {},
   "source": [
    "Son contenedores con nombre que permiten almacenar y manipular datos de manera dinámica y sencilla en un lenguaje de programacion que permite escribir codigo mas  flexible y reutilizable, normalmente una variable esta compuesta por Nombre, Tipo de dato y el Valor. tecnicamente son las variables que ya hemos visto en otros lenguajes el mas parecido es \"python\" pero si no han visto el lenguaje python aun, yo les explicare como seria pero en este caso en el lenguaje Julia "
   ]
  },
  {
   "cell_type": "markdown",
   "id": "97249ff0",
   "metadata": {},
   "source": [
    "#####  Nombre (variable)"
   ]
  },
  {
   "cell_type": "markdown",
   "id": "3fd4e7c8",
   "metadata": {},
   "source": [
    "El nombre es como quieres identificar tu al nombre de la variable puede ser \"tomate\" como puede ser \"divertido\" como diversas cosas, normalmente en programacion para tener una mayor organizacion al nombrar una variable usamos una tecnica llamada \"snake case\" que solo es una nomenclatura posterior mente le enseñaremos un ejemplo."
   ]
  },
  {
   "cell_type": "code",
   "execution_count": 2,
   "id": "cddcc451",
   "metadata": {},
   "outputs": [
    {
     "data": {
      "text/plain": [
       "0"
      ]
     },
     "metadata": {},
     "output_type": "display_data"
    }
   ],
   "source": [
    "#Ejemplo de Nombre de la variable y la tecnica \"snake case\"\n",
    "tomate = 0\n",
    "#variable con tecnica snake case aplicada\n",
    "tomateDivertido = 0"
   ]
  },
  {
   "cell_type": "markdown",
   "id": "b34a1837",
   "metadata": {},
   "source": [
    "##### Tipos de datos (variable)"
   ]
  },
  {
   "cell_type": "markdown",
   "id": "f1e3c0be",
   "metadata": {},
   "source": [
    "Los tipos de datos técnicamente son el tipo que quiere que sea tu \"valor\" por ejemplo comunmente conocido como Strings(Cadena de textos)donde se usan comillas simples o dobles, Int64(Numeros enteros), Float64(Numeros con decimales), \"true\"\"false\" (Booleanos), Char(Caracteres) y Tipos Definidos por el usuario"
   ]
  },
  {
   "cell_type": "markdown",
   "id": "6f318fa0",
   "metadata": {},
   "source": [
    "Enteros: Son Numeros Enteros de type \"Int\" pero en este caso seria tipo \"Int64\" que es como se identifica en el lenguaje Julia, tecnicamente son numeros enteros sin decimales que tambien se le puede agregar \"_\" como separadores aqui un ejemplo:"
   ]
  },
  {
   "cell_type": "code",
   "execution_count": 3,
   "id": "b84895e9",
   "metadata": {},
   "outputs": [
    {
     "data": {
      "text/plain": [
       "1000000"
      ]
     },
     "metadata": {},
     "output_type": "display_data"
    }
   ],
   "source": [
    "#Enteros\n",
    "x = 42\n",
    "y = -10\n",
    "z = 1_000_000 "
   ]
  },
  {
   "cell_type": "markdown",
   "id": "89db0dd0",
   "metadata": {},
   "source": [
    "Float: Son Numeros con Decimales de type \"Float\" o \"Double\" pero en Julia seria de type \"Float64\", este tipo son numeros con decimales como puede ser \"3.14\" como \"-2.5\" que solo se pueden ingresar de tipo numerico"
   ]
  },
  {
   "cell_type": "code",
   "execution_count": 4,
   "id": "003ab26f",
   "metadata": {},
   "outputs": [
    {
     "data": {
      "text/plain": [
       "6.02e23"
      ]
     },
     "metadata": {},
     "output_type": "display_data"
    }
   ],
   "source": [
    "#Float\n",
    "a = 3.14\n",
    "b = -2.5\n",
    "c = 6.02e23"
   ]
  },
  {
   "cell_type": "markdown",
   "id": "5437eadf",
   "metadata": {},
   "source": [
    "Booleanos: identificado como \"true\" & \"false\" aqui un ejemplo"
   ]
  },
  {
   "cell_type": "code",
   "execution_count": 5,
   "id": "edee637f",
   "metadata": {},
   "outputs": [
    {
     "data": {
      "text/plain": [
       "false"
      ]
     },
     "metadata": {},
     "output_type": "display_data"
    }
   ],
   "source": [
    "#Booleanos\n",
    "es_Estudiante = true\n",
    "no_es_Estudiante = false"
   ]
  },
  {
   "cell_type": "markdown",
   "id": "a87c44f9",
   "metadata": {},
   "source": [
    "Candena de texto: Mejor conocido como \"String\" son cadenas de texto que para aplicarla o usarla deben de usar comillas('') o comillas dobles(\"\") aqui un ejemplo:"
   ]
  },
  {
   "cell_type": "code",
   "execution_count": 6,
   "id": "60f9323d",
   "metadata": {},
   "outputs": [
    {
     "data": {
      "text/plain": [
       "\"Julia\""
      ]
     },
     "metadata": {},
     "output_type": "display_data"
    }
   ],
   "source": [
    "#Cadena de texto\n",
    "nombre = \"Julia\""
   ]
  },
  {
   "cell_type": "markdown",
   "id": "926b6f5b",
   "metadata": {},
   "source": [
    "Caracteres: Los caracteres de tipo \"Char\" son tecnicamente caracteres que tambien se le puede aplicar \"simbolos\" aqui un ejemplo:"
   ]
  },
  {
   "cell_type": "code",
   "execution_count": 7,
   "id": "7f230f95",
   "metadata": {},
   "outputs": [
    {
     "data": {
      "text/plain": [
       "'☺': Unicode U+263A (category So: Symbol, other)"
      ]
     },
     "metadata": {},
     "output_type": "display_data"
    }
   ],
   "source": [
    "#Caracteres\n",
    "letra = 'A'\n",
    "simbolo = '☺'"
   ]
  },
  {
   "cell_type": "markdown",
   "id": "e13a87f2",
   "metadata": {},
   "source": [
    "Tipos definidos por el usuario: Tecnicamente como dice su \"nombre\" son tipos que el usuario lo define como una caracteristica especial de Julia que te permite definir nuevos tipos de datos complejos, como estructuras y uniones de tipos"
   ]
  },
  {
   "cell_type": "code",
   "execution_count": 8,
   "id": "6297102e",
   "metadata": {},
   "outputs": [
    {
     "data": {
      "text/plain": [
       "Persona(\"Andres\", 21)"
      ]
     },
     "metadata": {},
     "output_type": "display_data"
    }
   ],
   "source": [
    "#Tipos definidos por el usuario\n",
    "struct Persona\n",
    "    nombre::String\n",
    "    edad::Int64\n",
    "end\n",
    "\n",
    "persona = Persona(\"Andres\", 21)"
   ]
  },
  {
   "cell_type": "markdown",
   "id": "c49e2e59",
   "metadata": {},
   "source": [
    "##### Valor (Variable)\n",
    "Es el contenido actual de la variable, que puede cambiar a lo largo de la ejecución del programa. Asignar un valor a una variable se conoce como inicialización o actualización. Los ejemplos de arriba le pueden ayudar para entender que es el un valor de la variable"
   ]
  },
  {
   "cell_type": "markdown",
   "id": "100f3b05",
   "metadata": {},
   "source": [
    "### Comentarios"
   ]
  },
  {
   "cell_type": "markdown",
   "id": "6e7b269b",
   "metadata": {},
   "source": [
    "Los comentarios es una parte del codigo que se ignora por el intérprete o compilador, pero que proporciona informacion adicional y ayuda a los desarrolladores a entender mejor el código. Los comentarios pueden ser utilizados para explicar el propósito de un bloque de codigo, proporcionar detalles sobre cómo funciona un algoritmo, o simplemente para dejar un mensaje para otros desarrolladores que trabajen en el proyecto."
   ]
  },
  {
   "cell_type": "markdown",
   "id": "6060165e",
   "metadata": {},
   "source": [
    "En general, los comentarios se escriben en un estilo que sea fácil de leer y entender, y se utilizan para proporcionar información que no es esencial para el funcionamiento del programa, pero que es útil para los desarrolladores que trabajan en el código ya lo que lo hace mas \"legible\", como dicen que lo entiendas tu no significa que los demas lo entiendan"
   ]
  },
  {
   "cell_type": "markdown",
   "id": "31169bec",
   "metadata": {},
   "source": [
    "Los comentarios en este caso esta dividido por dos maneras una que es un comentario lineal \"#\" y otro que es un comentario con multiples lineas"
   ]
  },
  {
   "cell_type": "markdown",
   "id": "5d24d58b",
   "metadata": {},
   "source": [
    "Comentarios de una línea: Estos son comentarios que se escriben en una sola línea y se inician con un símbolo especial, como \"#\""
   ]
  },
  {
   "cell_type": "code",
   "execution_count": 9,
   "id": "7ed51ad6",
   "metadata": {},
   "outputs": [],
   "source": [
    "# Este es un comentario de una linea"
   ]
  },
  {
   "cell_type": "markdown",
   "id": "4da8ea54",
   "metadata": {},
   "source": [
    "Comentarios de múltiples líneas: Estos son comentarios que se escriben en varias líneas y se encierran entre símbolos especiales, como \"\"\" o ''' un ejemplo"
   ]
  },
  {
   "cell_type": "code",
   "execution_count": 10,
   "id": "8665b339",
   "metadata": {},
   "outputs": [
    {
     "data": {
      "text/plain": [
       "\"Este es un comentario de Multiples lineas\\nque puede facilitar para explicar mas detalladamente\\nun bloque de codigo complejo\\n\""
      ]
     },
     "metadata": {},
     "output_type": "display_data"
    }
   ],
   "source": [
    "\"\"\"\n",
    "Este es un comentario de Multiples lineas\n",
    "que puede facilitar para explicar mas detalladamente\n",
    "un bloque de codigo complejo\n",
    "\"\"\""
   ]
  },
  {
   "cell_type": "markdown",
   "id": "23e7f4a3",
   "metadata": {},
   "source": [
    "### Funciones"
   ]
  },
  {
   "cell_type": "markdown",
   "id": "856d88c1",
   "metadata": {},
   "source": [
    "las funciones son bloques de código que realizan una tarea específica cuando son llamadas. Son fundamentales en la programación ya que permiten reutilizar código, modularizar programas y facilitar la organización y comprensión del mismo. aqui un ejemplo de unas funciones en julia en manera de codigo por si le interesa saber como seria"
   ]
  },
  {
   "cell_type": "markdown",
   "id": "d4b84356",
   "metadata": {},
   "source": [
    "##### Declaracion de una funcion en Julia\n"
   ]
  },
  {
   "cell_type": "markdown",
   "id": "6d038a5e",
   "metadata": {},
   "source": [
    "En Julia, una funcion se define con la palabra \"function\", seguida del nombre de la funcion y los parametros entre parentesis. El cuerpo de la función se define con un bloque de código que especifica las operaciones a realizar, un ejemplo"
   ]
  },
  {
   "cell_type": "code",
   "execution_count": 11,
   "id": "0eced0b6",
   "metadata": {},
   "outputs": [
    {
     "data": {
      "text/plain": [
       "suma (generic function with 1 method)"
      ]
     },
     "metadata": {},
     "output_type": "display_data"
    }
   ],
   "source": [
    "function suma(a, b)\n",
    "    return a + b\n",
    "end"
   ]
  },
  {
   "cell_type": "markdown",
   "id": "9eb45529",
   "metadata": {},
   "source": [
    "##### Imprimiendo(printIn) una funcion en Julia\n"
   ]
  },
  {
   "cell_type": "markdown",
   "id": "cdf38b00",
   "metadata": {},
   "source": [
    "Una vez definida una funcion, se puede llamar a la misma proporcionando los argumentos necesarios. Por ejemplo, para llamar a la función suma definida anteriormente:"
   ]
  },
  {
   "cell_type": "code",
   "execution_count": 12,
   "id": "f1435f7d",
   "metadata": {},
   "outputs": [
    {
     "name": "stdout",
     "output_type": "stream",
     "text": [
      "8\n"
     ]
    }
   ],
   "source": [
    "resultado = suma(3, 5)\n",
    "println(resultado)"
   ]
  },
  {
   "cell_type": "markdown",
   "id": "fcf3b5f5",
   "metadata": {},
   "source": [
    "#### Funciones con multiples valores de retorno"
   ]
  },
  {
   "cell_type": "markdown",
   "id": "cb2514c8",
   "metadata": {},
   "source": [
    "En Julia, las funciones pueden devolver multiples valores utilizando la sintaxis \"return valor1, valor2, ....\""
   ]
  },
  {
   "cell_type": "code",
   "execution_count": 13,
   "id": "f13285b0",
   "metadata": {},
   "outputs": [
    {
     "name": "stdout",
     "output_type": "stream",
     "text": [
      "15\n",
      "5\n"
     ]
    }
   ],
   "source": [
    "function operaciones(a, b)\n",
    "    suma = a + b\n",
    "    resta = a - b\n",
    "    return suma, resta\n",
    "end\n",
    "\n",
    "res1, res2 = operaciones(10, 5)\n",
    "println(res1)  \n",
    "println(res2)  "
   ]
  },
  {
   "cell_type": "markdown",
   "id": "65348578",
   "metadata": {},
   "source": [
    "entre otras funciones."
   ]
  },
  {
   "cell_type": "markdown",
   "id": "c063ba85",
   "metadata": {},
   "source": [
    "### Operadores"
   ]
  },
  {
   "cell_type": "markdown",
   "id": "7d92668b",
   "metadata": {},
   "source": [
    "Los operadores son símbolos o palabras clave que se utilizan para realizar operaciones sobre uno o más operandos (valores o variables). Los operadores permiten a los programadores manipular y combinar datos de diferentes maneras para obtener resultados específicos."
   ]
  },
  {
   "cell_type": "markdown",
   "id": "773562c8",
   "metadata": {},
   "source": [
    "##### operadores aritméticos"
   ]
  },
  {
   "cell_type": "markdown",
   "id": "95b23847",
   "metadata": {},
   "source": [
    "Suma (+): Combina dos valores y devuelve su suma."
   ]
  },
  {
   "cell_type": "markdown",
   "id": "133031f7",
   "metadata": {},
   "source": [
    "Resta (-): Resta un valor de otro y devuelve el resultado."
   ]
  },
  {
   "cell_type": "markdown",
   "id": "19262e59",
   "metadata": {},
   "source": [
    "Multiplicación (*): Multiplica dos valores y devuelve el producto."
   ]
  },
  {
   "cell_type": "markdown",
   "metadata": {},
   "source": [
    "Resta (-): Resta un valor de otro y devuelve el resultado."
   ]
  },
  {
   "cell_type": "markdown",
   "metadata": {},
   "source": [
    "División (/): Divide un valor entre otro y devuelve el cociente."
   ]
  },
  {
   "cell_type": "markdown",
   "metadata": {},
   "source": [
    "División entera (÷): Realiza la división y trunca el resultado a un número entero."
   ]
  },
  {
   "cell_type": "markdown",
   "metadata": {},
   "source": [
    "Potencia (^): Eleva un número a una potencia.\n"
   ]
  },
  {
   "cell_type": "markdown",
   "id": "31751dad",
   "metadata": {},
   "source": [
    "Módulo (%): Devuelve el resto de una división.\n"
   ]
  },
  {
   "cell_type": "markdown",
   "id": "e2adb65d",
   "metadata": {},
   "source": [
    "Negacion: Ejecuta bloques de código cuando una condición es falsa.\n"
   ]
  },
  {
   "cell_type": "markdown",
   "id": "7ac64641",
   "metadata": {},
   "source": [
    "##### lógicos y de comparación"
   ]
  },
  {
   "cell_type": "markdown",
   "id": "b6405e9c",
   "metadata": {},
   "source": [
    "AND (&&): Asocia dos términos o frases, validando que ambos valores booleanos sean verdaderos.\n"
   ]
  },
  {
   "cell_type": "markdown",
   "id": "706f2a5c",
   "metadata": {},
   "source": [
    "NOT (!): Ejecuta bloques de código cuando una condición es falsa."
   ]
  },
  {
   "cell_type": "markdown",
   "id": "23e27a0c",
   "metadata": {},
   "source": [
    "OR (||): Asocia dos términos o frases, validando que al menos uno de los dos valores sea verdadero.\n"
   ]
  },
  {
   "cell_type": "markdown",
   "id": "e79f8db0",
   "metadata": {},
   "source": [
    "##### Además, los operadores de comparación en Julia incluyen:"
   ]
  },
  {
   "cell_type": "markdown",
   "id": "a932c8f4",
   "metadata": {},
   "source": [
    "Igualdad (==)"
   ]
  },
  {
   "cell_type": "markdown",
   "id": "4c37ec50",
   "metadata": {},
   "source": [
    "No igualdad (!=)"
   ]
  },
  {
   "cell_type": "markdown",
   "id": "a247f035",
   "metadata": {},
   "source": [
    "Mayor que (>)"
   ]
  },
  {
   "cell_type": "markdown",
   "id": "5f4069ee",
   "metadata": {},
   "source": [
    "Menor que (<)"
   ]
  },
  {
   "cell_type": "markdown",
   "id": "df996905",
   "metadata": {},
   "source": [
    "Mayor o igual que (>=)"
   ]
  },
  {
   "cell_type": "markdown",
   "id": "182489c1",
   "metadata": {},
   "source": [
    "Menor o igual que (<=)"
   ]
  },
  {
   "cell_type": "markdown",
   "id": "5d1d7cb3",
   "metadata": {},
   "source": [
    "<h3>Arrays</h3>\n",
    "\n",
    "Un array en Julia es una estructura de datos que almacena una colección de elementos del mismo tipo. Los elementos de un array se pueden acceder mediante índices.\n",
    "\n",
    "Ejemplo:"
   ]
  },
  {
   "cell_type": "code",
   "execution_count": 33,
   "id": "7161d2e6",
   "metadata": {},
   "outputs": [
    {
     "data": {
      "text/plain": [
       "1"
      ]
     },
     "metadata": {},
     "output_type": "display_data"
    }
   ],
   "source": [
    "array_numeros = [1, 2, 3, 4, 5]\n",
    "\n",
    "# Acceder al primer elemento del array\n",
    "primer_elemento = array_numeros[1]"
   ]
  },
  {
   "cell_type": "code",
   "execution_count": 34,
   "id": "4cbd214f",
   "metadata": {},
   "outputs": [
    {
     "data": {
      "text/plain": [
       "5"
      ]
     },
     "metadata": {},
     "output_type": "display_data"
    }
   ],
   "source": [
    "array_numeros = [1, 2, 3, 4, 5]\n",
    "\n",
    "# Acceder al último elemento del array\n",
    "primer_elemento = array_numeros[end]"
   ]
  },
  {
   "cell_type": "code",
   "execution_count": 38,
   "id": "7dcf154e",
   "metadata": {},
   "outputs": [
    {
     "data": {
      "text/plain": [
       "10"
      ]
     },
     "metadata": {},
     "output_type": "display_data"
    }
   ],
   "source": [
    "array_numeros = [1, 2, 3, 4, 5]\n",
    "\n",
    "# Cambiar el primer elemento del array\n",
    "array_numeros[1] = 10\n"
   ]
  },
  {
   "cell_type": "code",
   "execution_count": 37,
   "id": "02fa6dbd",
   "metadata": {},
   "outputs": [
    {
     "data": {
      "text/plain": [
       "6-element Vector{Int64}:\n",
       " 1\n",
       " 2\n",
       " 3\n",
       " 4\n",
       " 5\n",
       " 6"
      ]
     },
     "metadata": {},
     "output_type": "display_data"
    }
   ],
   "source": [
    "array_numeros = [1, 2, 3, 4, 5]\n",
    "\n",
    "# Añadir un elemento al final del array\n",
    "push!(array_numeros, 6)"
   ]
  },
  {
   "cell_type": "markdown",
   "id": "73d90f48",
   "metadata": {},
   "source": [
    "<h3>Arrays bidimensionales (matrices) </h3>\n"
   ]
  },
  {
   "cell_type": "code",
   "execution_count": 39,
   "id": "9d447893",
   "metadata": {},
   "outputs": [
    {
     "data": {
      "text/plain": [
       "2"
      ]
     },
     "metadata": {},
     "output_type": "display_data"
    }
   ],
   "source": [
    "# Crear un array bidimensional (matriz)\n",
    "matriz = [1 2; 3 4]\n",
    "\n",
    "elemento = matriz[1, 2]"
   ]
  },
  {
   "cell_type": "markdown",
   "id": "9b7d0393",
   "metadata": {},
   "source": [
    "Devuelve 2 ya que matriz[1,2] significa fila 1 columna 2, y en la matriz definida la fila 1 tiene 1 y 2, y la fila 2 tiene 3 y 4. matriz = [1 2; 3 4]"
   ]
  },
  {
   "cell_type": "markdown",
   "id": "c462c263",
   "metadata": {},
   "source": [
    "<h3>Ciclos</h3>"
   ]
  },
  {
   "cell_type": "markdown",
   "id": "2afd6f8b",
   "metadata": {},
   "source": [
    "\n",
    "Los ciclos en Julia son estructuras de control que permiten ejecutar un bloque de código repetidamente hasta que se cumpla una condición específica. Existen dos tipos principales:\n",
    "\n",
    "<h4>Ciclos for: </h4>\n",
    "Se utilizan para ejecutar un bloque de código un número determinado de veces. La sintaxis básica de un ciclo for es la siguiente:\n",
    "\n",
    "for variable = inicio:fin:incremento\n",
    "\n",
    "    bloque_de_código\n",
    "    \n",
    "end\n",
    "\n",
    "Ejemplo:"
   ]
  },
  {
   "cell_type": "code",
   "execution_count": 15,
   "id": "26a6d938",
   "metadata": {},
   "outputs": [
    {
     "name": "stdout",
     "output_type": "stream",
     "text": [
      "1\n",
      "2\n",
      "3\n",
      "4\n",
      "5\n",
      "6\n",
      "7\n",
      "8\n",
      "9\n",
      "10\n"
     ]
    }
   ],
   "source": [
    "for i = 1:10\n",
    "    println(i)\n",
    "end"
   ]
  },
  {
   "cell_type": "markdown",
   "id": "aa2c67fe",
   "metadata": {},
   "source": [
    "<h4>Ciclo while</h4>\n",
    "\n",
    "Se utilizan para ejecutar un bloque de código mientras se cumpla una condición específica. La sintaxis básica de un ciclo while es la siguiente:\n",
    "\n",
    "while condicion\n",
    "\n",
    "      bloque_de_código      \n",
    "end\n",
    "\n",
    "Ejemplo:"
   ]
  },
  {
   "cell_type": "code",
   "execution_count": 16,
   "id": "94231b2a",
   "metadata": {},
   "outputs": [
    {
     "name": "stdout",
     "output_type": "stream",
     "text": [
      "1\n",
      "2\n",
      "3\n",
      "4\n",
      "5\n",
      "6\n",
      "7\n",
      "8\n",
      "9\n",
      "10\n"
     ]
    }
   ],
   "source": [
    "i = 1\n",
    "while i <= 10\n",
    "    println(i)\n",
    "    i += 1\n",
    "end\n"
   ]
  },
  {
   "cell_type": "markdown",
   "id": "b3fa3e36",
   "metadata": {},
   "source": [
    "## Conclusión"
   ]
  },
  {
   "cell_type": "markdown",
   "id": "8efbc215",
   "metadata": {},
   "source": [
    "El lenguaje de programación Julia es un Lenguaje de alta capacidad parecido a otros lenguajes como ya conocemos como mayor punto de comparación el lenguaje llamado python que tiene varias cosas similares pero a diferencia Julia es un lenguaje más orientado al cálculo matemático,algebraico,etc por cual hace que sea mas fácil hacer ese tipo de gestiones con mayor facilidad."
   ]
  }
 ],
 "metadata": {
  "kernelspec": {
   "display_name": "Julia 1.6.7",
   "language": "julia",
   "name": "julia-1.6"
  },
  "language_info": {
   "file_extension": ".jl",
   "mimetype": "application/julia",
   "name": "julia",
   "version": "1.6.7"
  }
 },
 "nbformat": 4,
 "nbformat_minor": 5
}
